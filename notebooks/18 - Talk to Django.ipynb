{
 "cells": [
  {
   "cell_type": "code",
   "execution_count": null,
   "id": "8dd700e2-34e8-4c9a-803c-0270c0f7c9f8",
   "metadata": {},
   "outputs": [],
   "source": [
    "import setup\n",
    "\n",
    "setup.init_django()"
   ]
  },
  {
   "cell_type": "code",
   "execution_count": null,
   "id": "f5adc0e1-26f7-4430-9de7-0a2df550063c",
   "metadata": {},
   "outputs": [],
   "source": [
    "from rag import (\n",
    "    db as rag_db, \n",
    "    engines as rag_engines,\n",
    "    settings as rag_settings, \n",
    "    updaters as rag_updaters,\n",
    ")"
   ]
  },
  {
   "cell_type": "code",
   "execution_count": null,
   "id": "ba98d441-cc40-441f-b695-4f950bcfc130",
   "metadata": {},
   "outputs": [],
   "source": [
    "from typing import Optional, Union\n",
    "from sqlalchemy import create_engine, text"
   ]
  },
  {
   "cell_type": "code",
   "execution_count": null,
   "id": "bca05a98-dca8-4c61-be99-533eb9511039",
   "metadata": {},
   "outputs": [],
   "source": [
    "rag_settings.init()\n",
    "rag_db.init_vector_db()\n",
    "rag_updaters.update_llama_index_documents(use_saved_embeddings=True)"
   ]
  },
  {
   "cell_type": "code",
   "execution_count": null,
   "id": "d31ead22-ac7b-4174-b2cb-4086a6459473",
   "metadata": {},
   "outputs": [],
   "source": [
    "vector_index = rag_engines.get_semantic_query_index()\n",
    "semantic_query_retriever = rag_engines.get_semantic_query_retriever_engine()\n",
    "sql_query_engine = rag_engines.get_sql_query_engine()"
   ]
  },
  {
   "cell_type": "code",
   "execution_count": null,
   "id": "3a76d593-450d-48fc-bbb6-74e0d2298bca",
   "metadata": {},
   "outputs": [],
   "source": [
    "print(rag_settings.VECTOR_DB_NAME, rag_settings.VECTOR_DB_TABLE_NAME)"
   ]
  },
  {
   "cell_type": "code",
   "execution_count": null,
   "id": "872f70d5-fd38-4146-9eee-0f4ba554a8d7",
   "metadata": {},
   "outputs": [],
   "source": [
    "from llama_index.core.tools import QueryEngineTool\n",
    "\n",
    "vector_tool = QueryEngineTool.from_defaults(\n",
    "    query_engine=semantic_query_retriever,\n",
    "    description=(\n",
    "        f\"Useful for answering semantic questions about different blog posts\"\n",
    "    ),\n",
    ")"
   ]
  },
  {
   "cell_type": "code",
   "execution_count": null,
   "id": "0f155a6a-4d60-40e4-b43e-2428a086c8d1",
   "metadata": {},
   "outputs": [],
   "source": [
    "sql_tool = QueryEngineTool.from_defaults(\n",
    "    query_engine=sql_query_engine,\n",
    "    description=(\n",
    "        \"Useful for translating a natural language query into a SQL query over\"\n",
    "        \" a table containing: blog posts and page views each blog post\"\n",
    "    ),\n",
    ")"
   ]
  },
  {
   "cell_type": "code",
   "execution_count": null,
   "id": "cb330033-935f-4f89-a238-32ddd18a9e79",
   "metadata": {},
   "outputs": [],
   "source": [
    "from typing import Any, Optional, Union\n",
    "\n",
    "\n",
    "from llama_index.core.query_engine import SQLAutoVectorQueryEngine\n",
    "from llama_index.core.query_engine.sql_vector_query_engine import *\n",
    "\n",
    "class MySQLAutoVectorQueryEngine(SQLAutoVectorQueryEngine):\n",
    "    def __init__(\n",
    "        self,\n",
    "        sql_query_tool: QueryEngineTool,\n",
    "        vector_query_tool: QueryEngineTool,\n",
    "        selector: Optional[Union[LLMSingleSelector, PydanticSingleSelector]] = None,\n",
    "        llm: Optional[LLM] = None,\n",
    "        service_context: Optional[ServiceContext] = None,\n",
    "        sql_vector_synthesis_prompt: Optional[BasePromptTemplate] = None,\n",
    "        sql_augment_query_transform: Optional[SQLAugmentQueryTransform] = None,\n",
    "        use_sql_vector_synthesis: bool = True,\n",
    "        callback_manager: Optional[CallbackManager] = None,\n",
    "        verbose: bool = True,\n",
    "    ) -> None:\n",
    "        \"\"\"Initialize params.\"\"\"\n",
    "        # validate that the query engines are of the right type\n",
    "        if not isinstance(\n",
    "            sql_query_tool.query_engine,\n",
    "            (BaseSQLTableQueryEngine, NLSQLTableQueryEngine),\n",
    "        ):\n",
    "            raise ValueError(\n",
    "                \"sql_query_tool.query_engine must be an instance of \"\n",
    "                \"BaseSQLTableQueryEngine or NLSQLTableQueryEngine\"\n",
    "            )\n",
    "        if not isinstance(vector_query_tool.query_engine, RetrieverQueryEngine):\n",
    "            raise ValueError(\n",
    "                \"vector_query_tool.query_engine must be an instance of \"\n",
    "                \"RetrieverQueryEngine\"\n",
    "            )\n",
    "        # if not isinstance(\n",
    "        #     vector_query_tool.query_engine.retriever, VectorIndexAutoRetriever\n",
    "        # ):\n",
    "        #     raise ValueError(\n",
    "        #         \"vector_query_tool.query_engine.retriever must be an instance \"\n",
    "        #         \"of VectorIndexAutoRetriever\"\n",
    "        #     )\n",
    "\n",
    "        sql_vector_synthesis_prompt = (\n",
    "            sql_vector_synthesis_prompt or DEFAULT_SQL_VECTOR_SYNTHESIS_PROMPT\n",
    "        )\n",
    "        SQLJoinQueryEngine.__init__(\n",
    "            self,\n",
    "            sql_query_tool,\n",
    "            vector_query_tool,\n",
    "            selector=selector,\n",
    "            llm=llm,\n",
    "            service_context=service_context,\n",
    "            sql_join_synthesis_prompt=sql_vector_synthesis_prompt,\n",
    "            sql_augment_query_transform=sql_augment_query_transform,\n",
    "            use_sql_join_synthesis=use_sql_vector_synthesis,\n",
    "            callback_manager=callback_manager,\n",
    "            verbose=verbose,\n",
    "        )"
   ]
  },
  {
   "cell_type": "code",
   "execution_count": null,
   "id": "298422a3-bf77-4ade-a79d-e5f3dd69d172",
   "metadata": {},
   "outputs": [],
   "source": [
    "# from llama_index.core.query_engine import SQLAutoVectorQueryEngine\n",
    "\n",
    "query_engine = MySQLAutoVectorQueryEngine(\n",
    "    sql_tool, \n",
    "    vector_tool,\n",
    ")"
   ]
  },
  {
   "cell_type": "code",
   "execution_count": null,
   "id": "50961604-48ca-437d-ad24-7ac7855cab96",
   "metadata": {},
   "outputs": [],
   "source": [
    "response = query_engine.query(\n",
    "    \"What kind of org is discussed?\"\n",
    ")"
   ]
  },
  {
   "cell_type": "code",
   "execution_count": null,
   "id": "0af92a90-2914-4172-9c5d-8e3efbbb9c59",
   "metadata": {},
   "outputs": [],
   "source": [
    "response.response"
   ]
  },
  {
   "cell_type": "code",
   "execution_count": null,
   "id": "78548bec-2197-42f8-ab50-3d095d1374c0",
   "metadata": {},
   "outputs": [],
   "source": [
    "response = query_engine.query(\n",
    "    \"Are are the top 5 most viewed blog posts? What keywords do their content have?\"\n",
    ")"
   ]
  },
  {
   "cell_type": "code",
   "execution_count": null,
   "id": "96f78be4-960a-432c-98db-2c0af2078963",
   "metadata": {},
   "outputs": [],
   "source": [
    "from IPython.display import Markdown, display\n",
    "\n",
    "display(Markdown(response.response))"
   ]
  },
  {
   "cell_type": "code",
   "execution_count": null,
   "id": "9787d4a9-901a-4fc3-a97d-d04fd15b9599",
   "metadata": {},
   "outputs": [],
   "source": [
    "response = query_engine.query(\n",
    "    \"What are the top 5 least viewed blog posts from today?\"\n",
    ")\n",
    "print(response.response)"
   ]
  },
  {
   "cell_type": "code",
   "execution_count": null,
   "id": "90fac10c-1674-49b4-8f5a-73eb4aa43461",
   "metadata": {},
   "outputs": [],
   "source": [
    "display(Markdown(response.response))"
   ]
  },
  {
   "cell_type": "code",
   "execution_count": null,
   "id": "d633c0de-04d7-4232-9151-5b081f7d3e50",
   "metadata": {},
   "outputs": [],
   "source": []
  }
 ],
 "metadata": {
  "kernelspec": {
   "display_name": "Python 3 (ipykernel)",
   "language": "python",
   "name": "python3"
  },
  "language_info": {
   "codemirror_mode": {
    "name": "ipython",
    "version": 3
   },
   "file_extension": ".py",
   "mimetype": "text/x-python",
   "name": "python",
   "nbconvert_exporter": "python",
   "pygments_lexer": "ipython3",
   "version": "3.11.8"
  }
 },
 "nbformat": 4,
 "nbformat_minor": 5
}
