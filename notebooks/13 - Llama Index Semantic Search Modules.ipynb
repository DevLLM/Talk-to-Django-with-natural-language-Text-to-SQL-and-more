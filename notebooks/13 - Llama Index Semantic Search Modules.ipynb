{
 "cells": [
  {
   "cell_type": "code",
   "execution_count": null,
   "id": "c5ddf7b8-af88-4ce2-9e93-3c3a1e8f5905",
   "metadata": {},
   "outputs": [],
   "source": [
    "import setup\n",
    "\n",
    "setup.init_django()"
   ]
  },
  {
   "cell_type": "code",
   "execution_count": null,
   "id": "d6a815a3-2c20-4459-b857-6aa6b7391ae7",
   "metadata": {},
   "outputs": [],
   "source": [
    "from rag import engines, sync\n",
    "\n",
    "sync.sync_blog_docs()"
   ]
  },
  {
   "cell_type": "code",
   "execution_count": null,
   "id": "24f74377-4413-4f7e-a01d-eeb7597ee61d",
   "metadata": {},
   "outputs": [],
   "source": [
    "query_engine = engines.get_semantic_query_engine()"
   ]
  },
  {
   "cell_type": "code",
   "execution_count": null,
   "id": "ac911eb0-f9fe-4418-a2d8-c3a12d1c682a",
   "metadata": {},
   "outputs": [],
   "source": [
    "response = query_engine.query(\"hi there\")\n",
    "print(response.response)"
   ]
  },
  {
   "cell_type": "code",
   "execution_count": null,
   "id": "da1125b8-b8ef-48b4-b15d-8c7e2fd2b7df",
   "metadata": {},
   "outputs": [],
   "source": [
    "response = query_engine.query(\"Dog jumping\")\n",
    "nodes = response.source_nodes\n",
    "\n",
    "for node in response.source_nodes:\n",
    "    print(\"Score\", node.score)\n",
    "    print(\"Contents\", node.node.get_content())\n",
    "    print(\"Metadata\", node.node.metadata)"
   ]
  },
  {
   "cell_type": "code",
   "execution_count": null,
   "id": "712a2237-7740-4989-a41e-f25b73ae2952",
   "metadata": {},
   "outputs": [],
   "source": [
    "query_retriever_engine = engines.get_semantic_query_retriever_engine(top_k=5)"
   ]
  },
  {
   "cell_type": "code",
   "execution_count": null,
   "id": "3ac5c76d-da82-4c7f-8fd9-94560d9b7ec5",
   "metadata": {},
   "outputs": [],
   "source": [
    "ranked_response = query_retriever_engine.query(\"Dog jumping\")"
   ]
  },
  {
   "cell_type": "code",
   "execution_count": null,
   "id": "93c22326-6ba9-4d07-a286-ecc3ee8e23c1",
   "metadata": {},
   "outputs": [],
   "source": [
    "for node in ranked_response.source_nodes:\n",
    "    print(\"Score\", node.score)\n",
    "    print(\"Contents\", node.node.get_content())\n",
    "    print(\"Metadata\", node.node.metadata)"
   ]
  },
  {
   "cell_type": "code",
   "execution_count": null,
   "id": "d1c1fb26-fe3a-4ee3-91e5-ba3e643f859d",
   "metadata": {},
   "outputs": [],
   "source": []
  }
 ],
 "metadata": {
  "kernelspec": {
   "display_name": "Python 3 (ipykernel)",
   "language": "python",
   "name": "python3"
  },
  "language_info": {
   "codemirror_mode": {
    "name": "ipython",
    "version": 3
   },
   "file_extension": ".py",
   "mimetype": "text/x-python",
   "name": "python",
   "nbconvert_exporter": "python",
   "pygments_lexer": "ipython3",
   "version": "3.11.8"
  }
 },
 "nbformat": 4,
 "nbformat_minor": 5
}
