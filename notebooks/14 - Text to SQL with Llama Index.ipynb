{
 "cells": [
  {
   "cell_type": "code",
   "execution_count": null,
   "id": "940f26d4-29c0-4488-a590-b38592563b89",
   "metadata": {},
   "outputs": [],
   "source": [
    "import setup\n",
    "\n",
    "setup.init_django()"
   ]
  },
  {
   "cell_type": "code",
   "execution_count": null,
   "id": "7de1120e-935f-425c-8b07-f844861f1942",
   "metadata": {},
   "outputs": [],
   "source": [
    "from decouple import config"
   ]
  },
  {
   "cell_type": "code",
   "execution_count": null,
   "id": "47b39382-a884-49c0-9440-1dcd0b68ccb5",
   "metadata": {},
   "outputs": [],
   "source": [
    "from blog.models import BlogPost\n",
    "from rag import db as rag_db, settings as rag_settings"
   ]
  },
  {
   "cell_type": "code",
   "execution_count": null,
   "id": "cb95572d-9a8e-44bb-991c-a68db4a8bb4b",
   "metadata": {},
   "outputs": [],
   "source": [
    "from sqlalchemy import (\n",
    "    create_engine,\n",
    "    inspect,\n",
    ")\n",
    "\n",
    "from llama_index.core import SQLDatabase\n",
    "from llama_index.core.query_engine import NLSQLTableQueryEngine\n",
    "from llama_index.core.retrievers import NLSQLRetriever"
   ]
  },
  {
   "cell_type": "code",
   "execution_count": null,
   "id": "0cea0a40-a1b6-46b8-85fa-73f133403a5e",
   "metadata": {},
   "outputs": [],
   "source": [
    "# initialize default LlamaIndex settings\n",
    "rag_settings.init()\n",
    "# get pooled Neon database string from .env or env vars\n",
    "vector_database_url = rag_db.get_database_url(use_pooling=True)"
   ]
  },
  {
   "cell_type": "code",
   "execution_count": null,
   "id": "cd919039-8f8d-4a99-a5f0-2105b9534b50",
   "metadata": {},
   "outputs": [],
   "source": [
    "engine = create_engine(vector_database_url)"
   ]
  },
  {
   "cell_type": "code",
   "execution_count": null,
   "id": "39a2e483-dfc1-452f-a960-6dc65c6afbe3",
   "metadata": {},
   "outputs": [],
   "source": [
    "inspect(engine).get_table_names()"
   ]
  },
  {
   "cell_type": "code",
   "execution_count": null,
   "id": "d043d078-2b31-4737-a2e6-94633f000a56",
   "metadata": {},
   "outputs": [],
   "source": [
    "tables = []\n",
    "models = [BlogPost]\n",
    "for model in models:\n",
    "    table = model._meta.db_table\n",
    "    tables.append(table)"
   ]
  },
  {
   "cell_type": "code",
   "execution_count": null,
   "id": "a078145e-165c-4fa2-9fb2-c28c6f9f6081",
   "metadata": {},
   "outputs": [],
   "source": [
    "tables"
   ]
  },
  {
   "cell_type": "code",
   "execution_count": null,
   "id": "fd31bc90-9f6c-4858-9cf0-617d95f628ec",
   "metadata": {},
   "outputs": [],
   "source": [
    "sql_database = SQLDatabase(engine, include_tables=tables)"
   ]
  },
  {
   "cell_type": "code",
   "execution_count": null,
   "id": "f395572c-a467-4dde-9378-6214018f2626",
   "metadata": {},
   "outputs": [],
   "source": [
    "sql_query_engine = NLSQLTableQueryEngine(\n",
    "    sql_database=sql_database,\n",
    "    tables=tables,\n",
    ")"
   ]
  },
  {
   "cell_type": "code",
   "execution_count": null,
   "id": "4bd53412-5601-4af3-b705-28f47f5ad691",
   "metadata": {},
   "outputs": [],
   "source": [
    "response = sql_query_engine.query(\"What is my most recent blog post id?\")\n",
    "response"
   ]
  },
  {
   "cell_type": "code",
   "execution_count": null,
   "id": "14020123-622c-4b9f-b9a6-92333c965dd3",
   "metadata": {},
   "outputs": [],
   "source": [
    "for node in response.source_nodes:\n",
    "    print(node.node.get_content())"
   ]
  },
  {
   "cell_type": "code",
   "execution_count": null,
   "id": "14e80a4f-1f91-4278-975e-79b060b57e34",
   "metadata": {},
   "outputs": [],
   "source": [
    "nl_sql_retriever = NLSQLRetriever(\n",
    "    sql_database, tables=tables, return_raw=True\n",
    ")\n",
    "\n",
    "r = nl_sql_retriever.retrieve(\"What is my least most recent blog post?\")"
   ]
  },
  {
   "cell_type": "code",
   "execution_count": null,
   "id": "51590562-fe10-4ad4-a98f-bfcaa53ecf02",
   "metadata": {},
   "outputs": [],
   "source": [
    "print(r)\n",
    "for node in r:\n",
    "    print(node)\n",
    "    print(node.metadata)"
   ]
  },
  {
   "cell_type": "code",
   "execution_count": null,
   "id": "90410ef3-2a54-4790-98e2-dbe6207310e3",
   "metadata": {},
   "outputs": [],
   "source": []
  },
  {
   "cell_type": "code",
   "execution_count": null,
   "id": "217508cb-e6c9-4cfc-a3fa-ead86bc22d4f",
   "metadata": {},
   "outputs": [],
   "source": []
  }
 ],
 "metadata": {
  "kernelspec": {
   "display_name": "Python 3 (ipykernel)",
   "language": "python",
   "name": "python3"
  },
  "language_info": {
   "codemirror_mode": {
    "name": "ipython",
    "version": 3
   },
   "file_extension": ".py",
   "mimetype": "text/x-python",
   "name": "python",
   "nbconvert_exporter": "python",
   "pygments_lexer": "ipython3",
   "version": "3.11.8"
  }
 },
 "nbformat": 4,
 "nbformat_minor": 5
}
