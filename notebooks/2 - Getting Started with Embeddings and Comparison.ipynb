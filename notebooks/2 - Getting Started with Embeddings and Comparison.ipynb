{
 "cells": [
  {
   "cell_type": "code",
   "execution_count": null,
   "id": "f38bcb2a-d951-4b34-9978-0f84eef2930e",
   "metadata": {},
   "outputs": [],
   "source": [
    "import numpy as np\n",
    "from sentence_transformers import SentenceTransformer"
   ]
  },
  {
   "cell_type": "code",
   "execution_count": null,
   "id": "b2e6aea1-68f6-49cd-855a-31345d1e058b",
   "metadata": {},
   "outputs": [],
   "source": [
    "model = SentenceTransformer(\"all-MiniLM-L6-v2\")"
   ]
  },
  {
   "cell_type": "code",
   "execution_count": null,
   "id": "7a7246cc-9adf-4183-a208-fde93f73e164",
   "metadata": {},
   "outputs": [],
   "source": [
    "split_docs = sorted([\"The dog jumped over the cat\"][0].split(' '))\n",
    "split_docs"
   ]
  },
  {
   "cell_type": "code",
   "execution_count": null,
   "id": "7f6ca091-f29a-4445-a168-4aaef829325d",
   "metadata": {},
   "outputs": [],
   "source": [
    "docs = [\"The dog jumped over the cat\"]\n",
    "docs"
   ]
  },
  {
   "cell_type": "code",
   "execution_count": null,
   "id": "8c92b811-c453-439c-b63e-b2df4edfe2a6",
   "metadata": {},
   "outputs": [],
   "source": [
    "embeddings = model.encode(docs)"
   ]
  },
  {
   "cell_type": "code",
   "execution_count": null,
   "id": "228f4651-6298-4b74-8a32-22ced882e9de",
   "metadata": {},
   "outputs": [],
   "source": [
    "docs2 = [\"The cat jumped over the dog\"]"
   ]
  },
  {
   "cell_type": "code",
   "execution_count": null,
   "id": "d41a784a-4bfa-4388-9396-6a2a064eb7a8",
   "metadata": {},
   "outputs": [],
   "source": [
    "split_docs2 = sorted(docs2[0].split(' '))\n",
    "split_docs2"
   ]
  },
  {
   "cell_type": "code",
   "execution_count": null,
   "id": "af5b7a83-9997-4c60-abbe-8e274b7edf94",
   "metadata": {},
   "outputs": [],
   "source": [
    "embeddings2 = model.encode(docs2)"
   ]
  },
  {
   "cell_type": "code",
   "execution_count": null,
   "id": "96e7db7b-635b-4653-8174-edcbdbaf6fd0",
   "metadata": {},
   "outputs": [],
   "source": [
    "model.similarity(embeddings,embeddings)"
   ]
  },
  {
   "cell_type": "code",
   "execution_count": null,
   "id": "943b41ed-4486-4e97-a741-3753a1c98dd7",
   "metadata": {},
   "outputs": [],
   "source": [
    "model.similarity(embeddings,embeddings2)"
   ]
  },
  {
   "cell_type": "code",
   "execution_count": null,
   "id": "ab5c2dba-7f33-4a99-8650-353840eabafd",
   "metadata": {},
   "outputs": [],
   "source": [
    "embeddings3 = model.encode([\"The dog is hot from jumping\"])"
   ]
  },
  {
   "cell_type": "code",
   "execution_count": null,
   "id": "120dcaba-806b-4896-b495-5fb6af565839",
   "metadata": {},
   "outputs": [],
   "source": [
    "model.similarity(embeddings,embeddings3)"
   ]
  },
  {
   "cell_type": "code",
   "execution_count": null,
   "id": "7766c6bf-837f-4d30-9dc7-7270cc61e906",
   "metadata": {},
   "outputs": [],
   "source": [
    "embeddings4 = model.encode([\"The weather is hot\"])\n",
    "model.similarity(embeddings,embeddings4)"
   ]
  },
  {
   "cell_type": "code",
   "execution_count": null,
   "id": "87746496-8039-46a9-a1a5-3c7017dd1b86",
   "metadata": {},
   "outputs": [],
   "source": [
    "embeddings2"
   ]
  },
  {
   "cell_type": "code",
   "execution_count": null,
   "id": "4d3f1589-9ff8-4fd3-87ce-743ff4cd56b7",
   "metadata": {},
   "outputs": [],
   "source": []
  }
 ],
 "metadata": {
  "kernelspec": {
   "display_name": "Python 3 (ipykernel)",
   "language": "python",
   "name": "python3"
  },
  "language_info": {
   "codemirror_mode": {
    "name": "ipython",
    "version": 3
   },
   "file_extension": ".py",
   "mimetype": "text/x-python",
   "name": "python",
   "nbconvert_exporter": "python",
   "pygments_lexer": "ipython3",
   "version": "3.11.8"
  }
 },
 "nbformat": 4,
 "nbformat_minor": 5
}
