{
 "cells": [
  {
   "cell_type": "code",
   "execution_count": null,
   "id": "f38bcb2a-d951-4b34-9978-0f84eef2930e",
   "metadata": {},
   "outputs": [],
   "source": [
    "import numpy as np\n",
    "from sentence_transformers import SentenceTransformer"
   ]
  },
  {
   "cell_type": "code",
   "execution_count": null,
   "id": "b2e6aea1-68f6-49cd-855a-31345d1e058b",
   "metadata": {},
   "outputs": [],
   "source": [
    "model = SentenceTransformer(\"all-MiniLM-L6-v2\")"
   ]
  },
  {
   "cell_type": "code",
   "execution_count": null,
   "id": "7f6ca091-f29a-4445-a168-4aaef829325d",
   "metadata": {},
   "outputs": [],
   "source": [
    "docs = [\n",
    "    \"The dog jumped over the cat\", \n",
    "    \"The cat jumped over the dog\",\n",
    "    \"It is very warm today\",\n",
    "    \"The cat is yellow and the dog is red\",\n",
    "]"
   ]
  },
  {
   "cell_type": "code",
   "execution_count": null,
   "id": "8739e303-2d98-4b87-b13d-b2e2b0ec218b",
   "metadata": {},
   "outputs": [],
   "source": [
    "documents = []\n",
    "for i, x in enumerate(docs):\n",
    "    row = {\n",
    "       \"index\": i,\n",
    "       \"data\": x\n",
    "    }\n",
    "    documents.append(row)\n",
    "\n",
    "documents"
   ]
  },
  {
   "cell_type": "code",
   "execution_count": null,
   "id": "94f03282-7cd2-4af4-bc20-9f55dea32a17",
   "metadata": {},
   "outputs": [],
   "source": [
    "dataset = [\n",
    "    {'id': 1, 'text': 'The dog jumped over the cat'},\n",
    "    {'id': 2, 'text': 'The cat jumped over the dog'},\n",
    "    {'id': 3, 'text': 'It is very warm today'},\n",
    "    {'id': 4, 'text': 'The cat is yellow and the dog is red'},\n",
    "    {'id': 5, 'text': 'The dog jumped over the purple cow'}\n",
    "]"
   ]
  },
  {
   "cell_type": "code",
   "execution_count": null,
   "id": "1128ec0e-837a-4af5-a1c1-5f10415f59d0",
   "metadata": {},
   "outputs": [],
   "source": [
    "document_embeddings = []\n",
    "for x in dataset:\n",
    "    embed = model.encode(x.get('text'))\n",
    "    final_data = (x.get('id'), embed)\n",
    "    document_embeddings.append(final_data)\n",
    "\n",
    "# document_embeddings[0][1]"
   ]
  },
  {
   "cell_type": "code",
   "execution_count": null,
   "id": "388fabf5-44f0-4193-af2f-c967f036c749",
   "metadata": {},
   "outputs": [],
   "source": [
    "# embeddings = model.encode(dataset)"
   ]
  },
  {
   "cell_type": "code",
   "execution_count": null,
   "id": "d002cdd4-61cc-46a1-8ef4-4da7a1a8cb5c",
   "metadata": {},
   "outputs": [],
   "source": [
    "query = \"The dog jumped over the green cow\"\n",
    "query_embedding = model.encode([query])"
   ]
  },
  {
   "cell_type": "code",
   "execution_count": null,
   "id": "77b22442-2326-474a-8d69-345f81585052",
   "metadata": {},
   "outputs": [],
   "source": [
    "query_embedding.shape"
   ]
  },
  {
   "cell_type": "code",
   "execution_count": null,
   "id": "943b41ed-4486-4e97-a741-3753a1c98dd7",
   "metadata": {},
   "outputs": [],
   "source": [
    "# model.similarity(embeddings, model.encode([query]))"
   ]
  },
  {
   "cell_type": "code",
   "execution_count": null,
   "id": "4d3f1589-9ff8-4fd3-87ce-743ff4cd56b7",
   "metadata": {},
   "outputs": [],
   "source": [
    "results = []\n",
    "for doc in document_embeddings:\n",
    "    doc_id = doc[0]\n",
    "    doc_embedding = doc[1]\n",
    "    rank = model.similarity(doc_embedding, query_embedding)\n",
    "    results.append(\n",
    "        (doc_id, rank)\n",
    "    )\n",
    "results"
   ]
  },
  {
   "cell_type": "code",
   "execution_count": null,
   "id": "fdd9a2d6-e1c5-450d-aaaa-8bed9a7ab4be",
   "metadata": {},
   "outputs": [],
   "source": [
    "results.sort(key=lambda x: x[1], reverse=True)"
   ]
  },
  {
   "cell_type": "code",
   "execution_count": null,
   "id": "b0c227e2-ea26-4343-a03d-35d3844ac42d",
   "metadata": {},
   "outputs": [],
   "source": [
    "for result in results:\n",
    "    dataset_id = result[0]\n",
    "    rank = result[1]\n",
    "    doc = next(doc for doc in dataset if doc['id'] == dataset_id)\n",
    "    print(dataset_id, rank, doc)"
   ]
  },
  {
   "cell_type": "code",
   "execution_count": null,
   "id": "4ae9dde0-dff7-4f05-b11e-710421403e02",
   "metadata": {},
   "outputs": [],
   "source": []
  }
 ],
 "metadata": {
  "kernelspec": {
   "display_name": "Python 3 (ipykernel)",
   "language": "python",
   "name": "python3"
  },
  "language_info": {
   "codemirror_mode": {
    "name": "ipython",
    "version": 3
   },
   "file_extension": ".py",
   "mimetype": "text/x-python",
   "name": "python",
   "nbconvert_exporter": "python",
   "pygments_lexer": "ipython3",
   "version": "3.11.8"
  }
 },
 "nbformat": 4,
 "nbformat_minor": 5
}
